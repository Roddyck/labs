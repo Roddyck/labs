


import matplotlib.pyplot as plt

from typing import Callable
from math import exp, sqrt
from main import euler, first_euler_modification, second_euler_modification

def show_plots(solution: Callable[[float], float], list_of_all_euler_points: list[dict[str|list[float]]],
               error_points: dict[str|list[float]]):
    plt.figure(figsize=(18,18))
    plt.subplot(211)
    colors = ["green", "red", "black", "orange", "purple"]
    for i in range(len(list_of_all_euler_points)):
        plt.plot("x", "y", "", data=list_of_all_euler_points[i], color=colors[i], label=f"Ломанная Эйлера при n = {5 * (2 ** i)}")

    plt.plot([x / 10.0 for x in range(11)], [solution(x / 10.0)  for x in range(11)], color="blue", label="Точное решение")
    plt.grid(True)
    plt.legend(loc="upper left")
    plt.title("Точное решение и ломаные Эйлера")

    plt.subplot(212)
    plt.plot("step", "error", "", data=error_points)
    plt.xlabel("шаг")
    plt.ylabel("абсолютная погрешность")
    plt.title("Зависимость ошибки от шага")
    plt.show()





def function1(x, y):
    return y - x

def solution1(x):
    return 16 * exp(x) + x + 1

X_0, Y_0 = 0, 17





list_of_all_euler_points = []
error_points = {"step": [], "error": []}

n = 5
while n <= 80:
    step = 1/float(n)
    x_euler, y_euler, points_euler = euler(function1, n, step, X_0, Y_0)
    list_of_all_euler_points.append(points_euler)
    error_points["step"].append(step)
    error_points["error"].append(abs(y_euler - solution1(x_euler)))

    n *= 2

print(euler(function1, 80, 1/80.0, X_0, Y_0)[1])
print(solution1(1))
show_plots(solution1, list_of_all_euler_points, error_points)





list_of_all_euler_points = []
error_points = {"step": [], "error": []}

n = 5
while n <= 80:
    step = 1/float(n)
    x_euler, y_euler, points_euler = first_euler_modification(function1, n, step, X_0, Y_0)
    list_of_all_euler_points.append(points_euler)
    error_points["step"].append(step)
    error_points["error"].append(abs(y_euler - solution1(x_euler)))

    n *= 2

print(first_euler_modification(function1, 80, 1/80.0, X_0, Y_0)[1])
print(solution1(1))
show_plots(solution1, list_of_all_euler_points, error_points)





list_of_all_euler_points = []
error_points = {"step": [], "error": []}

n = 5
while n <= 80:
    step = 1/float(n)
    x_euler, y_euler, points_euler = second_euler_modification(function1, n, step, X_0, Y_0)
    list_of_all_euler_points.append(points_euler)
    error_points["step"].append(step)
    error_points["error"].append(abs(y_euler - solution1(x_euler)))

    n *= 2

print(second_euler_modification(function1, 80, 1/80.0, X_0, Y_0)[1])
print(solution1(1))
show_plots(solution1, list_of_all_euler_points, error_points)





def function2(x, y):
    return y - 2*x / y

def solution2(x):
    return sqrt(2*x + 1 * 288 * exp(2*x))

X_0, Y_0 = 0, 17





list_of_all_euler_points = []
error_points = {"step": [], "error": []}

n = 5
while n <= 80:
    step = 1/float(n)
    x_euler, y_euler, points_euler = euler(function2, n, step, X_0, Y_0)
    list_of_all_euler_points.append(points_euler)
    error_points["step"].append(step)
    error_points["error"].append(abs(y_euler - solution2(x_euler)))

    n *= 2

print(euler(function2, 80, 1/80.0, X_0, Y_0)[1])
print(solution2(1))
show_plots(solution2, list_of_all_euler_points, error_points)





list_of_all_euler_points = []
error_points = {"step": [], "error": []}

n = 5
while n <= 80:
    step = 1/float(n)
    x_euler, y_euler, points_euler = first_euler_modification(function2, n, step, X_0, Y_0)
    list_of_all_euler_points.append(points_euler)
    error_points["step"].append(step)
    error_points["error"].append(abs(y_euler - solution2(x_euler)))

    n *= 2

print(first_euler_modification(function2, 80, 1/80.0, X_0, Y_0)[1])
print(solution2(1))
show_plots(solution2, list_of_all_euler_points, error_points)





list_of_all_euler_points = []
error_points = {"step": [], "error": []}

n = 5
while n <= 80:
    step = 1/float(n)
    x_euler, y_euler, points_euler = second_euler_modification(function2, n, step, X_0, Y_0)
    list_of_all_euler_points.append(points_euler)
    error_points["step"].append(step)
    error_points["error"].append(abs(y_euler - solution2(x_euler)))

    n *= 2

print(first_euler_modification(function2, 80, 1/80.0, X_0, Y_0)[1])
print(solution2(1))
show_plots(solution2, list_of_all_euler_points, error_points)





import matplotlib.pyplot as plt

from main import runge_kutta
from math import exp, sqrt





def function1(x, y):
    return y - x

def solution1(x):
    return 16 * exp(x) + x + 1

X_0, Y_0 = 0, 17


print(runge_kutta(function1, 80, 1/80.0, 0.5, X_0, Y_0))
print(solution1(1))


best_alpha, best_error = 0, -1
alphas, errors = [], []
for i in range(1, 11):
    alpha = i / 10.0
    x, y = runge_kutta(function1, 80, 1/80.0, alpha, X_0, Y_0)
    error = abs(solution1(1) - y)

    alphas.append(alpha)
    errors.append(error)

    if best_error == -1:
        best_error = error
        best_alpha = alpha

    if error < best_error:
        best_error = error
        best_alpha = alpha

print(f"best alpha = {best_alpha}, best error = {best_error}")
print(alphas, errors)





def function2(x, y):
    return y - 2*x / y

def solution2(x):
    return sqrt(2*x + 1 * 288 * exp(2*x))

X_0, Y_0 = 0, 17


print(runge_kutta(function2, 80, 1/80.0, 0.5, X_0, Y_0))
print(solution2(1))


best_alpha, best_error = 0, -1
alphas, errors = [], []
for i in range(1, 11):
    alpha = i / 10.0
    x, y = runge_kutta(function2, 80, 1/80.0, alpha, X_0, Y_0)
    error = abs(solution2(1) - y)

    alphas.append(alpha)
    errors.append(error)

    if best_error == -1:
        best_error = error
        best_alpha = alpha

    if error < best_error:
        best_error = error
        best_alpha = alpha

print(f"best alpha = {best_alpha}, best error = {best_error}")
print(alphas, errors)



